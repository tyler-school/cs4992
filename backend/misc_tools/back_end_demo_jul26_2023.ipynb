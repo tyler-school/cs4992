{
 "cells": [
  {
   "cell_type": "markdown",
   "id": "b1ee5f3c",
   "metadata": {},
   "source": [
    "# Search for \"new album\" in past 3 days"
   ]
  },
  {
   "cell_type": "code",
   "execution_count": 13,
   "id": "0e934366",
   "metadata": {},
   "outputs": [],
   "source": [
    "import requests\n",
    "server = \"http://127.0.0.1:8000\"\n",
    "term = \"new album\"\n",
    "days = 7\n",
    "endpoint = f\"{server}/search/{term}/{days}\"\n",
    "response = requests.get(endpoint)"
   ]
  },
  {
   "cell_type": "code",
   "execution_count": 14,
   "id": "31208311",
   "metadata": {},
   "outputs": [
    {
     "name": "stdout",
     "output_type": "stream",
     "text": [
      "Drake promises his new album will drop in 'a couple of weeks'\n",
      "Drake: new ‘For All the Dogs’ album may drop in ‘a couple of weeks’\n",
      "Drake 'For All the Dogs' release date, what we know about new album\n",
      "The Gaslight Anthem announce new album, release single with ...\n",
      "Gaslight Anthem singer likens bond with Bruce Springsteen to ‘being friends with Batman.’ They just recorded a duet\n",
      "Chris Stapleton Announces New Album ‘Higher,’ Shares First Single ‘White Horse’\n",
      "Nas Sets His Sights on Rap Supremacy With Upcoming Album ‘Magic 2’\n",
      "Mitski Introduces New Album With Rousing First Single, ‘Bug Like an Angel’\n",
      "Greta Van Fleet looks back to its Michigan roots as new 'Starcatcher ...\n",
      "BTS’s J-Hope Announces A New Album And Documentary\n",
      "27 Years Later, Keanu Reeves Band Is Actually Releasing A New ...\n",
      "Sunday Conversation: Greta Van Fleet On Their New Album, ‘Starcatcher’\n",
      "Brian Setzer Announces New Album The Devil Always Collects, 2023 Tour Dates\n",
      "BEARTOOTH Announces New Album 'The Surface', Shares 'Might ...\n",
      "Slayyyter Thinks Her Upcoming LP ‘Starfucker’ Is the ‘Greatest Album Ever.’ But Maybe She’s Biased\n"
     ]
    }
   ],
   "source": [
    "import json\n",
    "articles = json.loads(response.content)\n",
    "for description in articles:\n",
    "    print(description)"
   ]
  },
  {
   "cell_type": "code",
   "execution_count": 15,
   "id": "933e477d",
   "metadata": {},
   "outputs": [],
   "source": [
    "home_endpoint = f'{server}/home'"
   ]
  },
  {
   "cell_type": "code",
   "execution_count": 16,
   "id": "20a7f929",
   "metadata": {},
   "outputs": [
    {
     "name": "stdout",
     "output_type": "stream",
     "text": [
      "{'hello!': [{'title': 'Naomi Watts on finding love after menopause and why age is in - HELLO!', 'link': 'https://news.google.com/rss/articles/CBMif2h0dHBzOi8vd3d3LmhlbGxvbWFnYXppbmUuY29tL2hlYWx0aGFuZGJlYXV0eS9oZWFsdGgtYW5kLWZpdG5lc3MvNDk4MTYxL25hb21pLXdhdHRzLW1hcnJpYWdlLW1lbm9wYXVzZS1ob2xseXdvb2QtYWdlLWV4Y2x1c2l2ZS_SAYoBaHR0cHM6Ly93d3cuaGVsbG9tYWdhemluZS5jb20vaGVhbHRoYW5kYmVhdXR5L2hlYWx0aC1hbmQtZml0bmVzcy80OTgxNjEvbmFvbWktd2F0dHMtbWFycmlhZ2UtbWVub3BhdXNlLWhvbGx5d29vZC1hZ2UtZXhjbHVzaXZlLz92aWV3YXM9YW1w?oc=5', 'description': '<a href=\"https://news.google.com/rss/articles/CBMif2h0dHBzOi8vd3d3LmhlbGxvbWFnYXppbmUuY29tL2hlYWx0aGFuZGJlYXV0eS9oZWFsdGgtYW5kLWZpdG5lc3MvNDk4MTYxL25hb21pLXdhdHRzLW1hcnJpYWdlLW1lbm9wYXVzZS1ob2xseXdvb2QtYWdlLWV4Y2x1c2l2ZS_SAYoBaHR0cHM6Ly93d3cuaGVsbG9tYWdhemluZS5jb20vaGVhbHRoYW5kYmVhdXR5L2hlYWx0aC1hbmQtZml0bmVzcy80OTgxNjEvbmFvbWktd2F0dHMtbWFycmlhZ2UtbWVub3BhdXNlLWhvbGx5d29vZC1hZ2UtZXhjbHVzaXZlLz92aWV3YXM9YW1w?oc=5\" target=\"_blank\">Naomi Watts on finding love after menopause and why age is in</a>&nbsp;&nbsp;<font color=\"#6f6f6f\">HELLO!</font>', 'date': '2023-07-24T07:00:00+00:00', 'source': 'HELLO!', 'sentiment': [0.13636363636363635, 0.45454545454545453], 'bias': 'UNKNOWN'}, {'title': \"Nominations Open for Hello Partner's Global 30 Under 30 Future ... - Hello Partner\", 'link': 'https://news.google.com/rss/articles/CBMiamh0dHBzOi8vaGVsbG9wYXJ0bmVyLmNvbS8yMDIzLzA3LzI2L25vbWluYXRpb25zLW9wZW4tZm9yLWhlbGxvLXBhcnRuZXJzLWdsb2JhbC0zMC11bmRlci0zMC1mdXR1cmUtbGVhZGVycy_SAQA?oc=5', 'description': '<a href=\"https://news.google.com/rss/articles/CBMiamh0dHBzOi8vaGVsbG9wYXJ0bmVyLmNvbS8yMDIzLzA3LzI2L25vbWluYXRpb25zLW9wZW4tZm9yLWhlbGxvLXBhcnRuZXJzLWdsb2JhbC0zMC11bmRlci0zMC1mdXR1cmUtbGVhZGVycy_SAQA?oc=5\" target=\"_blank\">Nominations Open for Hello Partner\\'s Global 30 Under 30 Future ...</a>&nbsp;&nbsp;<font color=\"#6f6f6f\">Hello Partner</font>', 'date': '2023-07-26T10:52:30+00:00', 'source': 'Hello Partner', 'sentiment': [0.13636363636363635, 0.45454545454545453], 'bias': 'UNKNOWN'}], 'hi!': [{'title': 'Hi Point Steakhouse closed due to fire - WMTV – NBC15', 'link': 'https://news.google.com/rss/articles/CBMiRWh0dHBzOi8vd3d3Lm5iYzE1LmNvbS8yMDIzLzA3LzI0L2hpLXBvaW50LXN0ZWFraG91c2UtY2xvc2VkLWR1ZS1maXJlL9IBVGh0dHBzOi8vd3d3Lm5iYzE1LmNvbS8yMDIzLzA3LzI0L2hpLXBvaW50LXN0ZWFraG91c2UtY2xvc2VkLWR1ZS1maXJlLz9vdXRwdXRUeXBlPWFtcA?oc=5', 'description': '<a href=\"https://news.google.com/rss/articles/CBMiRWh0dHBzOi8vd3d3Lm5iYzE1LmNvbS8yMDIzLzA3LzI0L2hpLXBvaW50LXN0ZWFraG91c2UtY2xvc2VkLWR1ZS1maXJlL9IBVGh0dHBzOi8vd3d3Lm5iYzE1LmNvbS8yMDIzLzA3LzI0L2hpLXBvaW50LXN0ZWFraG91c2UtY2xvc2VkLWR1ZS1maXJlLz9vdXRwdXRUeXBlPWFtcA?oc=5\" target=\"_blank\">Hi Point Steakhouse closed due to fire</a>&nbsp;&nbsp;<font color=\"#6f6f6f\">WMTV – NBC15</font>', 'date': '2023-07-24T21:09:00+00:00', 'source': 'WMTV – NBC15', 'sentiment': [0.13636363636363635, 0.45454545454545453], 'bias': 'UNKNOWN'}, {'title': 'We Tried It: Hi Honey Farm Tour - HONOLULU Magazine', 'link': 'https://news.google.com/rss/articles/CBMiNGh0dHBzOi8vd3d3Lmhvbm9sdWx1bWFnYXppbmUuY29tL2hpLWhvbmV5LWZhcm0tdG91ci_SAQA?oc=5', 'description': '<a href=\"https://news.google.com/rss/articles/CBMiNGh0dHBzOi8vd3d3Lmhvbm9sdWx1bWFnYXppbmUuY29tL2hpLWhvbmV5LWZhcm0tdG91ci_SAQA?oc=5\" target=\"_blank\">We Tried It: Hi Honey Farm Tour</a>&nbsp;&nbsp;<font color=\"#6f6f6f\">HONOLULU Magazine</font>', 'date': '2023-07-24T20:56:05+00:00', 'source': 'HONOLULU Magazine', 'sentiment': [0.13636363636363635, 0.45454545454545453], 'bias': 'UNKNOWN'}], 'sup!': [{'title': 'What is SUP yoga and are there benefits of doing yoga on the water? - Yahoo Life', 'link': 'https://news.google.com/rss/articles/CBMiS2h0dHBzOi8vd3d3LnlhaG9vLmNvbS9saWZlc3R5bGUvc3VwLXlvZ2EtYmVuZWZpdHMtZG9pbmcteW9nYS0xNTAwMzk2NDguaHRtbNIBAA?oc=5', 'description': '<a href=\"https://news.google.com/rss/articles/CBMiS2h0dHBzOi8vd3d3LnlhaG9vLmNvbS9saWZlc3R5bGUvc3VwLXlvZ2EtYmVuZWZpdHMtZG9pbmcteW9nYS0xNTAwMzk2NDguaHRtbNIBAA?oc=5\" target=\"_blank\">What is SUP yoga and are there benefits of doing yoga on the water?</a>&nbsp;&nbsp;<font color=\"#6f6f6f\">Yahoo Life</font>', 'date': '2023-07-26T15:00:39+00:00', 'source': 'Yahoo Life', 'sentiment': [0.13636363636363635, 0.45454545454545453], 'bias': 'UNKNOWN'}, {'title': 'LAWA prohibits SUP water bottle sales as it looks to more ... - TRBusiness', 'link': 'https://news.google.com/rss/articles/CBMimAFodHRwczovL3d3dy50cmJ1c2luZXNzLmNvbS9yZWdpb25hbC1uZXdzL3RoZS1hbWVyaWNhcy9sYXdhLXByb2hpYml0cy1zaW5nbGUtdXNlLXBsYXN0aWMtd2F0ZXItYm90dGxlLXNhbGVzLWFzLWl0LWxvb2tzLXRvLW1vcmUtc3VzdGFpbmFibGUtZnV0dXJlLzIzOTU3NdIBAA?oc=5', 'description': '<a href=\"https://news.google.com/rss/articles/CBMimAFodHRwczovL3d3dy50cmJ1c2luZXNzLmNvbS9yZWdpb25hbC1uZXdzL3RoZS1hbWVyaWNhcy9sYXdhLXByb2hpYml0cy1zaW5nbGUtdXNlLXBsYXN0aWMtd2F0ZXItYm90dGxlLXNhbGVzLWFzLWl0LWxvb2tzLXRvLW1vcmUtc3VzdGFpbmFibGUtZnV0dXJlLzIzOTU3NdIBAA?oc=5\" target=\"_blank\">LAWA prohibits SUP water bottle sales as it looks to more ...</a>&nbsp;&nbsp;<font color=\"#6f6f6f\">TRBusiness</font>', 'date': '2023-07-25T11:45:00+00:00', 'source': 'TRBusiness', 'sentiment': [0.13636363636363635, 0.45454545454545453], 'bias': 'UNKNOWN'}]}\n"
     ]
    }
   ],
   "source": [
    "import json\n",
    "def get_homepage(user: str):\n",
    "    home_endpoint = f'{server}/home'\n",
    "    response = requests.get(f'{home_endpoint}/{user}')\n",
    "    return json.loads(response.content)\n",
    "\n",
    "def summarize_homepage(homepage, search_terms):\n",
    "\n",
    "    for t in search_terms:\n",
    "        print(t)\n",
    "        for a in homepage[t]:\n",
    "            print(a[\"title\"])\n",
    "print(get_homepage(\"will\"))"
   ]
  },
  {
   "cell_type": "code",
   "execution_count": 18,
   "id": "1d1b5a53",
   "metadata": {},
   "outputs": [
    {
     "name": "stdout",
     "output_type": "stream",
     "text": [
      "{'username': 'tyler', 'searches': [{'term': 'Northeastern University', 'days': 7}, {'term': 'London', 'days': 3}]}\n"
     ]
    }
   ],
   "source": [
    "new_user = \"tyler\"\n",
    "northeastern_university_search = {\"term\": \"Northeastern University\",\n",
    "                                 \"days\": \"7\"}\n",
    "london_search = {\"term\": \"London\",\n",
    "                \"days\": \"3\"}\n",
    "homepage_to_post =  {\n",
    "        \"username\": new_user,\n",
    "        \"searches\": [northeastern_university_search, london_search] \n",
    "    }\n",
    "endpoint = f'{home_endpoint}/{new_user}'\n",
    "response = requests.post(endpoint, json.dumps(homepage_to_post))\n",
    "print(json.loads(response.content))"
   ]
  },
  {
   "cell_type": "code",
   "execution_count": 19,
   "id": "97972bca",
   "metadata": {},
   "outputs": [
    {
     "name": "stdout",
     "output_type": "stream",
     "text": [
      "{'Northeastern University': [{'title': 'Scholarships Help Afghan Students Find Homes at Universities Across US - Voice of America - VOA News', 'link': 'https://news.google.com/rss/articles/CBMibmh0dHBzOi8vd3d3LnZvYW5ld3MuY29tL2Evc2Nob2xhcnNoaXBzLWhlbHAtYWZnaGFuLXN0dWRlbnRzLWZpbmQtaG9tZXMtYXQtdW5pdmVyc2l0aWVzLWFjcm9zcy11cy0vNzE5MjM1OS5odG1s0gFwaHR0cHM6Ly93d3cudm9hbmV3cy5jb20vYW1wL3NjaG9sYXJzaGlwcy1oZWxwLWFmZ2hhbi1zdHVkZW50cy1maW5kLWhvbWVzLWF0LXVuaXZlcnNpdGllcy1hY3Jvc3MtdXMtLzcxOTIzNTkuaHRtbA?oc=5', 'description': '<a href=\"https://news.google.com/rss/articles/CBMibmh0dHBzOi8vd3d3LnZvYW5ld3MuY29tL2Evc2Nob2xhcnNoaXBzLWhlbHAtYWZnaGFuLXN0dWRlbnRzLWZpbmQtaG9tZXMtYXQtdW5pdmVyc2l0aWVzLWFjcm9zcy11cy0vNzE5MjM1OS5odG1s0gFwaHR0cHM6Ly93d3cudm9hbmV3cy5jb20vYW1wL3NjaG9sYXJzaGlwcy1oZWxwLWFmZ2hhbi1zdHVkZW50cy1maW5kLWhvbWVzLWF0LXVuaXZlcnNpdGllcy1hY3Jvc3MtdXMtLzcxOTIzNTkuaHRtbA?oc=5\" target=\"_blank\">Scholarships Help Afghan Students Find Homes at Universities Across US</a>&nbsp;&nbsp;<font color=\"#6f6f6f\">Voice of America - VOA News</font>', 'date': '2023-07-23T05:51:04+00:00', 'source': 'Voice of America - VOA News', 'sentiment': [0.13636363636363635, 0.45454545454545453], 'bias': 'CENTER'}, {'title': 'CAA Rebrands To Coastal Athletic Association - UNC Wilmington ... - UNCWsports.com', 'link': 'https://news.google.com/rss/articles/CBMiZmh0dHBzOi8vdW5jd3Nwb3J0cy5jb20vbmV3cy8yMDIzLzcvMjAvYWRtaW5pc3RyYXRpb24tY2FhLXJlYnJhbmRzLXRvLWNvYXN0YWwtYXRobGV0aWMtYXNzb2NpYXRpb24uYXNweNIBAA?oc=5', 'description': '<a href=\"https://news.google.com/rss/articles/CBMiZmh0dHBzOi8vdW5jd3Nwb3J0cy5jb20vbmV3cy8yMDIzLzcvMjAvYWRtaW5pc3RyYXRpb24tY2FhLXJlYnJhbmRzLXRvLWNvYXN0YWwtYXRobGV0aWMtYXNzb2NpYXRpb24uYXNweNIBAA?oc=5\" target=\"_blank\">CAA Rebrands To Coastal Athletic Association - UNC Wilmington ...</a>&nbsp;&nbsp;<font color=\"#6f6f6f\">UNCWsports.com</font>', 'date': '2023-07-20T14:09:27+00:00', 'source': 'UNCWsports.com', 'sentiment': [0.13636363636363635, 0.45454545454545453], 'bias': 'UNKNOWN'}], 'London': [{'title': 'Kevin Spacey acquitted in sexual assault case in London - PBS NewsHour', 'link': 'https://news.google.com/rss/articles/CBMiWWh0dHBzOi8vd3d3LnBicy5vcmcvbmV3c2hvdXIvYXJ0cy9rZXZpbi1zcGFjZXktYWNxdWl0dGVkLWluLXNleHVhbC1hc3NhdWx0LWNhc2UtaW4tbG9uZG9u0gFdaHR0cHM6Ly93d3cucGJzLm9yZy9uZXdzaG91ci9hbXAvYXJ0cy9rZXZpbi1zcGFjZXktYWNxdWl0dGVkLWluLXNleHVhbC1hc3NhdWx0LWNhc2UtaW4tbG9uZG9u?oc=5', 'description': '<a href=\"https://news.google.com/rss/articles/CBMiWWh0dHBzOi8vd3d3LnBicy5vcmcvbmV3c2hvdXIvYXJ0cy9rZXZpbi1zcGFjZXktYWNxdWl0dGVkLWluLXNleHVhbC1hc3NhdWx0LWNhc2UtaW4tbG9uZG9u0gFdaHR0cHM6Ly93d3cucGJzLm9yZy9uZXdzaG91ci9hbXAvYXJ0cy9rZXZpbi1zcGFjZXktYWNxdWl0dGVkLWluLXNleHVhbC1hc3NhdWx0LWNhc2UtaW4tbG9uZG9u?oc=5\" target=\"_blank\">Kevin Spacey acquitted in sexual assault case in London</a>&nbsp;&nbsp;<font color=\"#6f6f6f\">PBS NewsHour</font>', 'date': '2023-07-26T14:13:28+00:00', 'source': 'PBS NewsHour', 'sentiment': [0.13636363636363635, 0.45454545454545453], 'bias': 'CENTER'}, {'title': 'Kevin Spacey acquitted of all 9 sexual offense charges in London trial - New York Post ', 'link': 'https://news.google.com/rss/articles/CBMiaGh0dHBzOi8vbnlwb3N0LmNvbS8yMDIzLzA3LzI2L2tldmluLXNwYWNleS1hY3F1aXR0ZWQtb2YtYWxsLW5pbmUtc2V4dWFsLW9mZmVuY2UtY2hhcmdlcy1pbi1sb25kb24tdHJpYWwv0gFsaHR0cHM6Ly9ueXBvc3QuY29tLzIwMjMvMDcvMjYva2V2aW4tc3BhY2V5LWFjcXVpdHRlZC1vZi1hbGwtbmluZS1zZXh1YWwtb2ZmZW5jZS1jaGFyZ2VzLWluLWxvbmRvbi10cmlhbC9hbXAv?oc=5', 'description': '<a href=\"https://news.google.com/rss/articles/CBMiaGh0dHBzOi8vbnlwb3N0LmNvbS8yMDIzLzA3LzI2L2tldmluLXNwYWNleS1hY3F1aXR0ZWQtb2YtYWxsLW5pbmUtc2V4dWFsLW9mZmVuY2UtY2hhcmdlcy1pbi1sb25kb24tdHJpYWwv0gFsaHR0cHM6Ly9ueXBvc3QuY29tLzIwMjMvMDcvMjYva2V2aW4tc3BhY2V5LWFjcXVpdHRlZC1vZi1hbGwtbmluZS1zZXh1YWwtb2ZmZW5jZS1jaGFyZ2VzLWluLWxvbmRvbi10cmlhbC9hbXAv?oc=5\" target=\"_blank\">Kevin Spacey acquitted of all 9 sexual offense charges in London trial</a>&nbsp;&nbsp;<font color=\"#6f6f6f\">New York Post </font>', 'date': '2023-07-26T14:07:00+00:00', 'source': 'New York Post ', 'sentiment': [0.13636363636363635, 0.45454545454545453], 'bias': 'UNKNOWN'}]}\n"
     ]
    }
   ],
   "source": [
    "tyler_homepage = get_homepage(new_user)\n",
    "print(tyler_homepage)"
   ]
  },
  {
   "cell_type": "code",
   "execution_count": 20,
   "id": "ca9f4960",
   "metadata": {},
   "outputs": [
    {
     "name": "stdout",
     "output_type": "stream",
     "text": [
      "Northeastern University\n",
      "Scholarships Help Afghan Students Find Homes at Universities Across US - Voice of America - VOA News\n",
      "CAA Rebrands To Coastal Athletic Association - UNC Wilmington ... - UNCWsports.com\n",
      "London\n",
      "Kevin Spacey acquitted in sexual assault case in London - PBS NewsHour\n",
      "Kevin Spacey acquitted of all 9 sexual offense charges in London trial - New York Post \n"
     ]
    }
   ],
   "source": [
    "search_terms = [\"Northeastern University\", \"London\"]\n",
    "\n",
    "summarize_homepage(tyler_homepage, search_terms)\n"
   ]
  },
  {
   "cell_type": "code",
   "execution_count": null,
   "id": "1d7d41c8",
   "metadata": {},
   "outputs": [],
   "source": []
  }
 ],
 "metadata": {
  "kernelspec": {
   "display_name": "Python 3 (ipykernel)",
   "language": "python",
   "name": "python3"
  },
  "language_info": {
   "codemirror_mode": {
    "name": "ipython",
    "version": 3
   },
   "file_extension": ".py",
   "mimetype": "text/x-python",
   "name": "python",
   "nbconvert_exporter": "python",
   "pygments_lexer": "ipython3",
   "version": "3.9.17"
  }
 },
 "nbformat": 4,
 "nbformat_minor": 5
}
